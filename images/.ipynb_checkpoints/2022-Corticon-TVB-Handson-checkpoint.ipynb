{
 "cells": [
  {
   "cell_type": "markdown",
   "id": "0b4a7347-5550-40db-8012-a17304304073",
   "metadata": {
    "slideshow": {
     "slide_type": "slide"
    },
    "tags": []
   },
   "source": [
    "![](hbp-ebrains-logo.jpg) \n",
    "<p align=\"center\">\n",
    "  <img src=\"tvb-logo.png\">\n",
    "</p>\n",
    "\n",
    "# Corticon : TVB Hands-On \n",
    "\n",
    "April 13th 2022"
   ]
  },
  {
   "cell_type": "markdown",
   "id": "568f6fde-aae7-4c10-b154-d2fe306c7121",
   "metadata": {
    "slideshow": {
     "slide_type": "notes"
    },
    "tags": []
   },
   "source": [
    "- a course on modeling is always something of a hoax: building the model is the easy part, knowing what question to ask, and convincing ourselves we've answered it, is the hard part\n",
    "- the goal here is\n",
    "    - practical understanding of elements of whole brain modeling\n",
    "    - enable you to get started with existing parts\n",
    "    - ask questions\n",
    "    - maybe ask if brain models are conscious"
   ]
  },
  {
   "cell_type": "markdown",
   "id": "fa9e9ac6-136b-4d86-a13d-675d09904b74",
   "metadata": {
    "slideshow": {
     "slide_type": "subslide"
    },
    "tags": []
   },
   "source": [
    "## Outline\n",
    "\n",
    "- 📜 Origins of TVB\n",
    "- 🛒 Getting up and running with TVB\n",
    "- 🧩 TVB model components and data\n",
    "- 🏂 EBRAINS resources for TVB\n",
    "- 🎳 HBP EBRAINS showcases with TVB"
   ]
  },
  {
   "cell_type": "markdown",
   "id": "6afcf8e4-959d-4ee1-831f-f5215c9b91bb",
   "metadata": {
    "slideshow": {
     "slide_type": "subslide"
    },
    "tags": []
   },
   "source": [
    "## More info\n",
    "\n",
    "- ☝️ Please stop me & ask questions\n",
    "- 📓 Slides are a Jupyter notebook\n",
    "- 🧰 Full notebook available at https://corticon-tvb-handson.ins-amu.fr\n",
    "- 💻 Code samples are runnable\n",
    "- 📡 More info at https://thevirtualbrain.org\n",
    "- 📬 User group mailing list https://groups.google.com/g/tvb-users\n",
    "- 🐛 Bug report or feature request https://github.com/the-virtual-brain/tvb-root/issues"
   ]
  },
  {
   "cell_type": "markdown",
   "id": "38e379fe-4f22-4025-b874-b96dd6bff0a8",
   "metadata": {
    "slideshow": {
     "slide_type": "subslide"
    },
    "tags": []
   },
   "source": [
    "## Quick set-up\n",
    "\n",
    "Choose one:\n",
    "\n",
    "- Download from thevirtualbrain.org\n",
    "- Log into lab.ebrains.eu with EBRAINS account\n",
    "- Install locally:\n",
    "    - install [Anaconda](https://www.anaconda.com/products/distribution) or [Miniconda](https://docs.conda.io/en/latest/miniconda.html) Python,\n",
    "    - setup an env, `conda create -n tvb -y python=3 numpy matplotlib scipy numba numexpr lxml`,\n",
    "    - activate it, `conda activate tvb`,\n",
    "    - install TVB packages, `pip install tvb-data tvb-library jupyterlab`,\n",
    "    - and start the notebook interface, `jupyter lab`"
   ]
  },
  {
   "cell_type": "code",
   "execution_count": 24,
   "id": "5355a4b1-22d1-4e46-9d2e-e9622758a3a8",
   "metadata": {},
   "outputs": [
    {
     "name": "stdout",
     "output_type": "stream",
     "text": [
      "Populating the interactive namespace from numpy and matplotlib\n"
     ]
    }
   ],
   "source": [
    "# start your notebook like this\n",
    "%pylab inline\n",
    "from tvb.simulator.lab import *\n",
    "from tvb.basic.neotraits.api import NArray, Final, List"
   ]
  },
  {
   "cell_type": "markdown",
   "id": "f1a14979-b31a-4c06-93fa-dba89bdc2226",
   "metadata": {
    "slideshow": {
     "slide_type": "slide"
    },
    "tags": [],
    "toc-hr-collapsed": true
   },
   "source": [
    "## TVB's trajectory\n",
    "\n",
    "20 years evolution driven by data, algorithms and informatics developments."
   ]
  },
  {
   "cell_type": "markdown",
   "id": "d16fbadc-8c41-4c85-ae14-394d5b5bbd13",
   "metadata": {
    "slideshow": {
     "slide_type": "notes"
    },
    "tags": []
   },
   "source": [
    "Just highlight a few studies which tract TVB's trajectory.\n",
    "\n",
    "10 minutes max, Viktor advises to keep it practical, not a lecture.  We need to solve problems not flounder in details."
   ]
  },
  {
   "cell_type": "markdown",
   "id": "bb66ee88-43dc-467b-adc6-25d3d1c05f95",
   "metadata": {
    "slideshow": {
     "slide_type": "subslide"
    },
    "tags": []
   },
   "source": [
    "### Full brain model of M/EEG during behavior\n",
    "\n",
    "![](jirsa-2002-field-fwd-meeg.png)\n",
    "\n",
    "[Jirsa, Jantzen, Fuchs & Kelso, IEEE TMI 2002](https://ieeexplore.ieee.org/abstract/document/1009385)"
   ]
  },
  {
   "cell_type": "markdown",
   "id": "31de50d8-23cb-43e7-b70b-f2a232a0b1d1",
   "metadata": {
    "slideshow": {
     "slide_type": "notes"
    },
    "tags": []
   },
   "source": [
    "Modeling cortex with forward is possible but missing hetergeneous connectivity to break symmetry.\n",
    "This helps us understand the role of connectome driven modeling."
   ]
  },
  {
   "cell_type": "markdown",
   "id": "af6c4010-2998-4a92-9155-a58cdb18a1e2",
   "metadata": {
    "slideshow": {
     "slide_type": "subslide"
    },
    "tags": []
   },
   "source": [
    "### Connectome-based neural mass model simulations\n",
    "\n",
    "- [Honey et al 2007 PNAS](https://www.pnas.org/content/104/24/10240/) - CocoMac connectome drives BOLD functional connectivity\n",
    "- [Ghosh et al 2008 PLoS CB](https://journals.plos.org/ploscompbiol/article?id=10.1371/journal.pcbi.1000196) - Noise & delays key for BOLD fluctuations\n",
    "- [Knock et al 2009 J Nsci Meth](https://www.sciencedirect.com/science/article/abs/pii/S0165027009003707) - Comparison of tracer & dwMRI"
   ]
  },
  {
   "cell_type": "markdown",
   "id": "338067d8-c3b8-4cd6-a937-383717d7bec9",
   "metadata": {
    "slideshow": {
     "slide_type": "subslide"
    },
    "tags": []
   },
   "source": [
    "### TVB created & published\n",
    "\n",
    "- Network Recovery Group consortium, CodeBox/CodeMart industrial partner\n",
    "    - Developed wide range of use cases\n",
    "    - Project & data management infrastructure\n",
    "    - Simulation engine\n",
    "- First workshop [TVB Node 1 in Hamburg](https://www.thevirtualbrain.org/tvb/zwei/newswire-event-single/85036-workshop-tvb-node-1) alongside HBM 2014, [training nodes](https://www.thevirtualbrain.org/tvb/zwei/newswire-event) regularly since then\n",
    "- Sanz Leon et al papers on TVB\n",
    "    - [2013 Frontiers Neuroinformatics](https://www.frontiersin.org/articles/10.3389/fninf.2013.00010/full) - general intro on informatics\n",
    "    - [2015 Neuroimage](https://www.sciencedirect.com/science/article/pii/S1053811915000051) - mathematical details"
   ]
  },
  {
   "cell_type": "markdown",
   "id": "a25ae67c-bded-48b8-b213-ce7cc1eaaa90",
   "metadata": {
    "slideshow": {
     "slide_type": "subslide"
    },
    "tags": []
   },
   "source": [
    "### Wide-range of applications\n",
    "\n",
    "- [Falcon et al 2015 F. Neurology](https://www.frontiersin.org/articles/10.3389/fneur.2015.00228/full) - Tumor recovery\n",
    "- [Ulloa & Horowitz 2016 F. Neuroinformatics](https://www.frontiersin.org/articles/10.3389/fninf.2016.00032/full) - Visual object recognition\n",
    "- [Kunze et al 2016 Neuroimage](https://www.sciencedirect.com/science/article/pii/S1053811916001221) - tDCS rest state function connectivity\n",
    "- [Jirsa et al 2017 Neuroimage](https://www.sciencedirect.com/science/article/pii/S1053811916300891) - Patient-specific seizure propagation\n",
    "- [Melozzi et al 2019 PNAS](https://www.pnas.org/doi/abs/10.1073/pnas.1906694116) - 🐭 Mouse w/ tracer & MRI data\n",
    "- [An et al 2022 Neuroimage](https://www.sciencedirect.com/science/article/pii/S1053811921011198) - Hi-res modeling of DBS stimulation in depression\n",
    "- [Schirner et al 2022 Neuroimage](https://www.sciencedirect.com/science/article/pii/S1053811922001021) - TVB services on EBRAINS infrastructure\n",
    "- [Goldman et al, BioRXiv](https://www.biorxiv.org/content/10.1101/2020.12.28.424574v1) - Slow-wave synchrony and highly responsive asychronous states\n",
    "- [Lavanga et al, BioRXiv](https://www.biorxiv.org/content/10.1101/2022.02.17.480902v1.abstract) - Aging and cognitive decline"
   ]
  },
  {
   "cell_type": "markdown",
   "id": "733daeb3-9abf-433b-9ad5-defb11987532",
   "metadata": {
    "slideshow": {
     "slide_type": "slide"
    },
    "tags": []
   },
   "source": [
    "## A tour through TVB\n",
    "\n",
    "Walk through TVB from bottom up, in each case, showing\n",
    "\n",
    "- relevant math\n",
    "- how to use in TVB\n",
    "- link to data\n",
    "- further reading"
   ]
  },
  {
   "cell_type": "markdown",
   "id": "bc25f667-a964-4181-be6d-94706a33e7ec",
   "metadata": {
    "slideshow": {
     "slide_type": "notes"
    },
    "tags": []
   },
   "source": [
    "10 parts * 4 minutes each?  It needs to be quick to avoid boring.  The story is building up. \n",
    "Making a model is easy.  The hard part is the story: what is your question, and what satisfies your criteria for an explanation. "
   ]
  },
  {
   "cell_type": "markdown",
   "id": "36a44c7e-e95a-4c17-924f-90dc81801112",
   "metadata": {
    "slideshow": {
     "slide_type": "slide"
    },
    "tags": []
   },
   "source": [
    "### Neural mass mean field models\n",
    "\n",
    "![](neural-mass-schema.png)\n",
    "    \n",
    "- Classical: Wilson-Cowan, Jansen-Rit, Kuramoto\n",
    "- Recent: Epileptor, Montbrió-Pazó-Roxin, di Volo Destexhe\n"
   ]
  },
  {
   "cell_type": "markdown",
   "id": "aa7904c3-5c00-48b7-8890-ccc8ef294e58",
   "metadata": {
    "slideshow": {
     "slide_type": "subslide"
    },
    "tags": []
   },
   "source": [
    "#### Differential equations\n",
    "\n",
    "![](mpr-summary.png)\n",
    "\n",
    "$$ \n",
    "\\begin{align}\n",
    "\\dot{r} &= \\Delta / \\pi + 2 r v \\\\\n",
    "\\dot{V} &= v^2 + \\bar{\\eta} + J r + I(t) - \\pi^2 r^2\n",
    "\\end{align}\n",
    "$$\n",
    "\n",
    "[Montbrió, Pazó & Roxin PRX 2015](https://journals.aps.org/prx/pdf/10.1103/PhysRevX.5.021028)"
   ]
  },
  {
   "cell_type": "markdown",
   "id": "203035d4-622b-4840-90fd-dc3aa4d13ff1",
   "metadata": {
    "slideshow": {
     "slide_type": "subslide"
    },
    "tags": []
   },
   "source": [
    "#### Code the model.."
   ]
  },
  {
   "cell_type": "code",
   "execution_count": 62,
   "id": "a9d787c2-8061-4964-9f5b-c284c9a21964",
   "metadata": {},
   "outputs": [],
   "source": [
    "class MyMPR(models.Model):\n",
    "    \"This is a demo model for Corticon.\"\n",
    "    \n",
    "    state_variables = 'r', 'V'   # name of state variables\n",
    "    _nvar = 2                    # number of state variables\n",
    "    cvar = np.r_[0]              # which state variables used for long range coupling\n",
    "\n",
    "    # ranges for state variables\n",
    "    state_variable_range = Final(default={\"r\": np.r_[0., 2.0], \"V\": np.r_[-2.0, 1.5]})\n",
    "    \n",
    "    # which variables used for forward modeling (fMRI BOLD, i/M/EEG)\n",
    "    variables_of_interest = List(default=['r'])\n",
    "    \n",
    "    # define a parameter, identical or not across network nodes\n",
    "    eta = NArray(default=numpy.array([-5.0]))\n",
    "    \n",
    "    def dfun(self, state, coupling, local_coupling=0.0):\n",
    "        r, V = state\n",
    "        I, = coupling\n",
    "        Delta, pi, eta, J = 1.0, np.pi, self.eta, 15.0\n",
    "        return np.array([\n",
    "            Delta / pi + 2 * r * V,\n",
    "            V**2 + eta + J * r + I - pi**2 * r**2\n",
    "        ])"
   ]
  },
  {
   "cell_type": "markdown",
   "id": "ec01325f-5a84-4f4f-a443-9b2c2020cf62",
   "metadata": {
    "tags": []
   },
   "source": [
    "- 27 built in models can be found on [TVB source code](https://github.com/the-virtual-brain/tvb-root/tree/master/scientific_library/tvb/simulator/models).\n",
    "- More can be expressed via [RateML](https://github.com/the-virtual-brain/tvb-root/tree/master/scientific_library/tvb/rateML)."
   ]
  },
  {
   "cell_type": "markdown",
   "id": "79bafc80-859e-427b-8985-c9355e82201e",
   "metadata": {
    "slideshow": {
     "slide_type": "subslide"
    },
    "tags": []
   },
   "source": [
    "#### .. and run a simulation with it"
   ]
  },
  {
   "cell_type": "code",
   "execution_count": 80,
   "id": "20f054bf-cad9-4e81-9fd1-2a8ab045a391",
   "metadata": {
    "slideshow": {
     "slide_type": "skip"
    },
    "tags": []
   },
   "outputs": [
    {
     "name": "stdout",
     "output_type": "stream",
     "text": [
      "WARNING  File 'hemispheres' not found in ZIP.\n"
     ]
    }
   ],
   "source": [
    "# not shown on presentation to save space\n",
    "sim_defaults = dict(\n",
    "    connectivity=connectivity.Connectivity.from_file(),\n",
    "    coupling=coupling.Linear(b=np.r_[0.0], a=np.r_[0.02]),\n",
    "    integrator=integrators.HeunStochastic(dt=0.01, noise=noise.Additive(nsig=np.r_[1e-2])),\n",
    "    monitors=(monitors.TemporalAverage(period=0.1),),\n",
    "    conduction_speed=1.0, # m/s\n",
    ")"
   ]
  },
  {
   "cell_type": "code",
   "execution_count": 78,
   "id": "2fa1743a-7e76-443e-b936-6c1e259f7d9a",
   "metadata": {},
   "outputs": [
    {
     "name": "stdout",
     "output_type": "stream",
     "text": [
      "WARNING  File 'hemispheres' not found in ZIP.\n"
     ]
    },
    {
     "data": {
      "image/png": "[encoded data removed]",
      "text/plain": [
       "<Figure size 720x288 with 1 Axes>"
      ]
     },
     "metadata": {
      "needs_background": "light"
     },
     "output_type": "display_data"
    }
   ],
   "source": [
    "varying_eta = -6.0 + np.random.randn(76)\n",
    "\n",
    "sim = simulator.Simulator(model=MyMPR(eta=varying_eta), **sim_defaults).configure()\n",
    "\n",
    "(t, y), = sim.run(simulation_length=10.0)\n",
    "\n",
    "figure(figsize=(10, 4)); plot(t, y[:, 0, :, 0], 'k', alpha=0.2); grid(1)"
   ]
  },
  {
   "cell_type": "markdown",
   "id": "3fdca0b8-2d1e-43f4-b661-9bb431066549",
   "metadata": {
    "slideshow": {
     "slide_type": "subslide"
    },
    "tags": []
   },
   "source": [
    "#### Data\n",
    "\n",
    "![](mass-model-data.png)"
   ]
  },
  {
   "cell_type": "markdown",
   "id": "a984f773-eeab-47aa-a718-5fc9cc355a4d",
   "metadata": {
    "slideshow": {
     "slide_type": "notes"
    },
    "tags": []
   },
   "source": [
    "Diverse data enter to the mass model itself:\n",
    "\n",
    "- definition of the nodes where neural masses are placed derives from the anatomy\n",
    "    - regions of interest in a parcellation (JuBrain & Allen Mouse data)\n",
    "    - cell bodies as identified on high resolution data\n",
    "- informing specific region variance parameters using cell densities or receptor distributions"
   ]
  },
  {
   "cell_type": "markdown",
   "id": "d3f50131-fb00-4f1a-b842-79a9188f1259",
   "metadata": {
    "slideshow": {
     "slide_type": "subslide"
    },
    "tags": []
   },
   "source": [
    "#### Further resources\n",
    "\n",
    "- Process T1/DWI with the [MRtrix3 BIDS app](https://github.com/BIDS-Apps/MRtrix3_connectome) to compute FreeSurfer based parcellations and surfaces\n",
    "- Retrieve data with Siibra from the [Human Brain Atlas](https://ebrains.eu/service/human-brain-atlas) for both parcellations and regionally varying data\n",
    "- Follow a [tutorial on using the Mouse Brain tool](https://www.thevirtualbrain.org/tvb/zwei/newswire-educase/single/42282-learn-simulating-the-virtual-mouse-brain-tvmb-?_ga=2.142419633.2088774922.1649746891-744119136.1649409843) in TVB"
   ]
  },
  {
   "cell_type": "markdown",
   "id": "861ae00a-4649-46ff-9524-e274005af94b",
   "metadata": {
    "slideshow": {
     "slide_type": "slide"
    },
    "tags": []
   },
   "source": [
    "### Coupling functions\n",
    "\n",
    "![](cfun-schema.png)"
   ]
  },
  {
   "cell_type": "markdown",
   "id": "57befe03-769c-4e2f-9f0b-fddceb2c44f0",
   "metadata": {
    "slideshow": {
     "slide_type": "subslide"
    },
    "tags": []
   },
   "source": [
    "#### Coupling function example\n",
    "\n",
    "The Kuramoto model is a interesting case, \n",
    "\n",
    "$$ \\dot{\\theta}_i = \\omega_i + \\frac{K}{N} \\sum_{j=1}^N \\sin(\\theta_j - \\theta_i) $$\n",
    "\n",
    "which, in TVB, we split into the neural mass model \n",
    "\n",
    "$$ \\dot{\\theta}_i = \\omega_i + I_i(t) $$ \n",
    "\n",
    "and the coupling function\n",
    "\n",
    "$$ I_i(t) = post \\left( \\sum_{j=1}^N pre(\\theta_j, \\theta_i) \\right) $$\n",
    "\n",
    "with $pre(x_j, x_i) = \\sin(x_j - x_i)$ and $post(g_x) = K/N g_x$. \n",
    "\n"
   ]
  },
  {
   "cell_type": "markdown",
   "id": "94c333ea-e318-4c96-8164-1c522daf7bac",
   "metadata": {
    "slideshow": {
     "slide_type": "subslide"
    },
    "tags": []
   },
   "source": [
    "#### Kuramoto coupling in code"
   ]
  },
  {
   "cell_type": "code",
   "execution_count": 82,
   "id": "1008af47-e745-4ce2-909f-43e3ab2d83de",
   "metadata": {},
   "outputs": [],
   "source": [
    "class MyCoupling(coupling.SparseCoupling):\n",
    "    \"Demo definition of Kuramoto coupling\"\n",
    "    \n",
    "    K = NArray(default=np.r_[1.0])\n",
    "    \n",
    "    def pre(self, x_j, x_i):\n",
    "        return np.sin(x_j - x_i)\n",
    "\n",
    "    def post(self, g_x):\n",
    "        N = gx.shape[0]\n",
    "        return self.K / N * gx"
   ]
  },
  {
   "cell_type": "markdown",
   "id": "84b43bfd-e51a-4945-9623-1cd876d6888b",
   "metadata": {
    "slideshow": {
     "slide_type": "subslide"
    },
    "tags": []
   },
   "source": [
    "#### Linking coupling with theory\n",
    "\n",
    "![](cfun-theory.jpg)\n",
    "\n",
    "[Knock et al 2009 Neuroimage](https://www.sciencedirect.com/science/article/pii/S0165027009003707)"
   ]
  },
  {
   "cell_type": "markdown",
   "id": "13e043c5-299f-43cc-8276-3b34dc1f642c",
   "metadata": {
    "slideshow": {
     "slide_type": "subslide"
    },
    "tags": []
   },
   "source": [
    "#### Linking coupling with data\n",
    "\n",
    "![](cfun-data.jpg)\n",
    "\n",
    "[Hansen et al 2015 Neuroimage](https://www.sciencedirect.com/science/article/pii/S1053811914009033) - Modeling functional connectivity dynamics"
   ]
  },
  {
   "cell_type": "markdown",
   "id": "bc0398f0-f0a9-4e6b-90f0-081f89c87ff8",
   "metadata": {
    "slideshow": {
     "slide_type": "slide"
    },
    "tags": []
   },
   "source": [
    "### Connectivity\n",
    "\n",
    "![](conn-schema.jpg)"
   ]
  },
  {
   "cell_type": "markdown",
   "id": "66e24ebc-19da-4376-806a-be133ca0773c",
   "metadata": {
    "slideshow": {
     "slide_type": "subslide"
    },
    "tags": []
   },
   "source": [
    "#### Connectivity math\n",
    "\n",
    "Revisit the Kuramoto example,\n",
    "\n",
    "\n",
    "$$ I_j(t) = post \\left( \\sum_{k=1}^N u_{jk} pre(\\theta_k(t - \\tau_{jk}/, \\theta_j(t)) \\right) $$\n",
    "\n",
    "the connectivity enters as connection weights $u_{jk}$ and delays $\\tau_{jk} = L_{jk} / v_c$, where $L_{jk}$ is the tract length and $v_c$ is the conduction speed."
   ]
  },
  {
   "cell_type": "markdown",
   "id": "d0cfc0c1-e319-4196-865a-c7d846737164",
   "metadata": {
    "slideshow": {
     "slide_type": "subslide"
    },
    "tags": []
   },
   "source": [
    "#### Connectivity in code\n",
    "\n",
    "TVB provides several built in datasets, which can be referred to easily,"
   ]
  },
  {
   "cell_type": "code",
   "execution_count": 83,
   "id": "fa9594ce-5432-494b-9ad2-cb1076f6dd53",
   "metadata": {},
   "outputs": [
    {
     "name": "stdout",
     "output_type": "stream",
     "text": [
      "WARNING  File 'hemispheres' not found in ZIP.\n"
     ]
    }
   ],
   "source": [
    "white_matter = connectivity.Connectivity.from_file('connectivity_192.zip')\n",
    "\n",
    "# set the conduction velocity of the fibers\n",
    "white_matter.speed = numpy.array([4.0])"
   ]
  },
  {
   "cell_type": "markdown",
   "id": "d26ff52a-895b-4f92-ba6e-534f666508fe",
   "metadata": {},
   "source": [
    "along with a cortical surface with its local connectivity precomputed,"
   ]
  },
  {
   "cell_type": "code",
   "execution_count": 86,
   "id": "172a8a70-6a21-46bf-a870-3ba68a44256b",
   "metadata": {},
   "outputs": [],
   "source": [
    "default_cortex = cortex.Cortex.from_file()"
   ]
  },
  {
   "cell_type": "markdown",
   "id": "261c56b4-b230-475b-b9e8-cdfb69b6b382",
   "metadata": {
    "slideshow": {
     "slide_type": "subslide"
    },
    "tags": []
   },
   "source": [
    "#### Connectivity from data\n",
    "\n",
    "![](conn-data.jpg)"
   ]
  },
  {
   "cell_type": "markdown",
   "id": "80375224-737d-4a0b-938e-4fb118efce9c",
   "metadata": {
    "slideshow": {
     "slide_type": "subslide"
    },
    "tags": []
   },
   "source": [
    "#### Further resources \n",
    "\n",
    "- Work through [TVB tutorial on surface simulations](https://nbviewer.thevirtualbrain.org/url/docs.thevirtualbrain.org/demos/simulate_surface_seeg_eeg_meg.ipynb) for full simulations combining both kinds of connectivity\n",
    "- Process T1/DWI with the [MRtrix3 BIDS app](https://github.com/BIDS-Apps/MRtrix3_connectome) to compute long range connectivies\n",
    "- Retrieve connectivity data from the [Knowledge Graph via Siibra](https://github.com/FZJ-INM1-BDA/siibra-tutorials)\n",
    "- Build mouse connectivity matrices with [The Virtual Mouse Brain](https://www.thevirtualbrain.org/tvb/zwei/newswire-educase/single/42282-learn-simulating-the-virtual-mouse-brain-tvmb-?_ga=2.142419633.2088774922.1649746891-744119136.1649409843)"
   ]
  },
  {
   "cell_type": "markdown",
   "id": "4cb58a0e-8f66-47a4-a1db-0d271161693a",
   "metadata": {
    "slideshow": {
     "slide_type": "slide"
    },
    "tags": []
   },
   "source": [
    "### Integration in time\n",
    "\n",
    "Neural mass, coupled with a connectome describe continuous dynamics $f(X)$.  To run on a compute we need an integration scheme,\n",
    "![](int-scheme.jpg)\n",
    "which allows us to step through time to complete a full simulation."
   ]
  },
  {
   "cell_type": "markdown",
   "id": "0617461c-59bd-41a3-b0b1-e6cad442cc85",
   "metadata": {
    "slideshow": {
     "slide_type": "subslide"
    },
    "tags": []
   },
   "source": [
    "#### Integration in time\n",
    "\n",
    "We usually recommend using the Heun scheme, \n",
    "\n",
    "$$\n",
    "\\begin{align}\n",
    "dX_1 &= f(X_t) \\\\\n",
    "\\hat{X} &= X_t + dt dX_1 \\\\\n",
    "dX_2 &= f(\\hat{X}) \\\\\n",
    "X_{t+1} &= X_t + \\frac{dt}{2}(dX_1 + dX_2)\n",
    "\\end{align}\n",
    "$$\n",
    "\n",
    "which handles presence delays and noise well. "
   ]
  },
  {
   "cell_type": "markdown",
   "id": "135fc977-8a83-4815-a043-f141a3025cfb",
   "metadata": {
    "slideshow": {
     "slide_type": "subslide"
    },
    "tags": []
   },
   "source": [
    "#### Integration in code\n",
    "\n",
    "As with models, an integration scheme can be implemented as a class in TVB,"
   ]
  },
  {
   "cell_type": "code",
   "execution_count": 90,
   "id": "056e7211-c1db-45d9-887b-e70af7455888",
   "metadata": {},
   "outputs": [],
   "source": [
    "class MyEuler(integrators.Integrator):\n",
    "    n_dx = 1\n",
    "    def scheme(self, X, dfun, coupling, local_coupling, stimulus):\n",
    "        dX = dfun(X, coupling, local_coupling)\n",
    "        return X + self.dt * (dX  + stimulus)"
   ]
  },
  {
   "cell_type": "markdown",
   "id": "30c61172-f48a-4caf-a00d-05f68d96336e",
   "metadata": {},
   "source": [
    "but it is frequently easier to use the built-in Heun integrator, "
   ]
  },
  {
   "cell_type": "code",
   "execution_count": 91,
   "id": "71934eee-df0b-40b8-85c1-0b285ca22e3c",
   "metadata": {},
   "outputs": [],
   "source": [
    "integrator = integrators.HeunDeterministic(dt=0.1)"
   ]
  },
  {
   "cell_type": "markdown",
   "id": "5600b620-f585-4ae5-a114-6105d1a18483",
   "metadata": {},
   "source": [
    "or in the case of simulations with noise,"
   ]
  },
  {
   "cell_type": "code",
   "execution_count": 92,
   "id": "c3c7acc5-2c18-4436-a5f0-8abba8638e2a",
   "metadata": {},
   "outputs": [],
   "source": [
    "integrator = integrators.HeunStochastic(\n",
    "    dt=0.01, noise=noise.Additive(nsig=np.r_[1e-2]))"
   ]
  },
  {
   "cell_type": "markdown",
   "id": "537c49b7-c00e-42d4-99bf-3c5d4412b3e0",
   "metadata": {
    "slideshow": {
     "slide_type": "subslide"
    },
    "tags": []
   },
   "source": [
    "#### Further resources\n",
    "\n",
    "- Large connectome weights can destablize the integrator, so lower `dt` if results contain NaNs.\n",
    "- Advice on choosing `dt`:\n",
    "    - start with a small value of `dt`, e.g. 0.0001 (ms)\n",
    "    - run a simulation, plot time series\n",
    "    - incremenetally raise `dt` by factor of 2\n",
    "    - run simulations, verifying time series are still the same\n",
    "    - choose the largest `dt` which reproduces the smallest value\n",
    "- Consult a [comparison of integrators in TVB](https://nbviewer.thevirtualbrain.org/url/docs.thevirtualbrain.org/demos/compare_integrators.ipynb)"
   ]
  },
  {
   "cell_type": "markdown",
   "id": "3450d3bf-1ce2-4cfb-9729-463b3184d598",
   "metadata": {
    "slideshow": {
     "slide_type": "slide"
    },
    "tags": []
   },
   "source": [
    "### Forward solutions\n",
    "\n",
    "![](fwd-schema.jpg)\n",
    "\n",
    "Simulating neural activity is the start of a model in TVB, but linking to neuroimaging data requires forward models of BOLD fMRI, intracranial EEG, EEG and MEG. "
   ]
  },
  {
   "cell_type": "markdown",
   "id": "83eb3046-1f17-464f-ba44-351905252115",
   "metadata": {
    "slideshow": {
     "slide_type": "subslide"
    },
    "tags": []
   },
   "source": [
    "#### Forward models in TVB\n",
    "\n",
    "Forward models, called monitors in TVB, can be constructed from the built in dataset"
   ]
  },
  {
   "cell_type": "code",
   "execution_count": null,
   "id": "0952b7de-c694-4653-9b9a-132b4949bfe5",
   "metadata": {},
   "outputs": [],
   "source": [
    "bold = monitors.Bold(period=1800.0)  # TR 1.8 s\n",
    "\n",
    "samp_freq = 2034.5  # 4D MEG system freq\n",
    "period = 1e3 / samp_freq\n",
    "meg = monitors.MEG.from_file(period=period)\n",
    "eeg = monitors.EEG.from_file(period=period)\n",
    "ieeg = monitors.iEEG.from_file(period=period)"
   ]
  },
  {
   "cell_type": "markdown",
   "id": "20f95b37-e344-4382-9514-c060e73e217e",
   "metadata": {},
   "source": [
    "or from your own data, e.g. gain matrices generated by Fieldtrip or Brainstorm."
   ]
  },
  {
   "cell_type": "markdown",
   "id": "7ece859a-9675-4484-a25b-f7e8a2f8b2a8",
   "metadata": {
    "slideshow": {
     "slide_type": "subslide"
    },
    "tags": []
   },
   "source": [
    "#### Linking forward models to data\n",
    "\n",
    "![](fwd-data.jpg)"
   ]
  },
  {
   "cell_type": "markdown",
   "id": "5f194fa6-bc90-4281-8242-f879d449887d",
   "metadata": {
    "slideshow": {
     "slide_type": "subslide"
    },
    "tags": []
   },
   "source": [
    "#### Further resources\n",
    "\n",
    "- TVB demo of the [BOLD monitor](https://nbviewer.thevirtualbrain.org/url/docs.thevirtualbrain.org/demos/simulate_region_bold_stimulus.ipynb)\n",
    "- TVB demo of the [i/M/EEG monitors](https://nbviewer.thevirtualbrain.org/url/docs.thevirtualbrain.org/demos/simulate_surface_seeg_eeg_meg.ipynb)\n",
    "- Process rsfMRI data with the [fmriprep BIDS app](https://fmriprep.org/en/stable/usage.html) to compute rest state MRI and functional connectivities\n",
    "- Post-process i/M/EEG simulation data with [MNE-Python](https://mne.tools/stable/index.html)"
   ]
  },
  {
   "cell_type": "markdown",
   "id": "2be9ad7a-1129-41e5-bdb8-02290bb1fcd8",
   "metadata": {
    "slideshow": {
     "slide_type": "slide"
    },
    "tags": []
   },
   "source": [
    "### Stimulation\n",
    "\n",
    "![](stim-schema.jpg)"
   ]
  },
  {
   "cell_type": "markdown",
   "id": "ffef6e8f-65f1-439d-9551-2ef4be4ef82f",
   "metadata": {
    "slideshow": {
     "slide_type": "subslide"
    },
    "tags": []
   },
   "source": [
    "#### Setting up a stimulation in TVB\n",
    "\n",
    "A stimulation TVB requires specifying a spatial pattern and a time course,"
   ]
  },
  {
   "cell_type": "code",
   "execution_count": null,
   "id": "a36cd246-ddb2-4506-a26c-3da91d43cd69",
   "metadata": {},
   "outputs": [],
   "source": [
    "# spatial pattern\n",
    "n_nodes = conn.weights.shape[0]\n",
    "weighting = numpy.zeros((n_nodes))\n",
    "weighting[[69, 72]] = numpy.array([2.])\n",
    "\n",
    "# temporal pattern \n",
    "eqn_t = equations.PulseTrain()\n",
    "eqn_t.parameters[\"T\"] = 10000.0\n",
    "eqn_t.parameters[\"onset\"] = 2500.0\n",
    "eqn_t.parameters[\"tau\"] = 50.0\n",
    "eqn_t.parameters[\"amp\"] = 20.0\n",
    "stimulus = patterns.StimuliRegion(temporal = eqn_t,\n",
    "                                  connectivity = conn, \n",
    "                                  weight = weighting)\n",
    "\n",
    "# add to simulator configuration\n",
    "sim = simulator.Simulator(..., stimulus=stimulus)"
   ]
  },
  {
   "cell_type": "markdown",
   "id": "75d56919-1712-4e95-899d-27378228a054",
   "metadata": {
    "slideshow": {
     "slide_type": "subslide"
    },
    "tags": []
   },
   "source": [
    "#### Further resources\n",
    "\n",
    "- TVB demo on [regional stimulation](https://nbviewer.thevirtualbrain.org/url/docs.thevirtualbrain.org/demos/simulate_region_bold_stimulus.ipynb)\n",
    "- TVB [epilepsy tutorial](https://nbviewer.thevirtualbrain.org/url/docs.thevirtualbrain.org/tutorials/tutorial_s6_ModelingEpilepsy.ipynb#Triggering-a-seizure-by-stimulation), triggering a seizure with stimulation\n",
    "- [An et al 2022 Neuroimage](https://www.sciencedirect.com/science/article/pii/S1053811921011198) - Hi-res modeling of DBS stimulation in depression"
   ]
  },
  {
   "cell_type": "markdown",
   "id": "ad42909d-89f9-4948-a239-c3ae60dabfbc",
   "metadata": {
    "slideshow": {
     "slide_type": "slide"
    },
    "tags": []
   },
   "source": [
    "### Parameter sweeps\n",
    "\n",
    "![](sweep-schema.jpg)\n",
    "\n",
    "Frequently used parameters such as global coupling strength & noise strength are used to characterize the behavior of an individual brain model."
   ]
  },
  {
   "cell_type": "markdown",
   "id": "a1083f33-2eb6-4806-aaa7-a2cbf22506f4",
   "metadata": {
    "slideshow": {
     "slide_type": "subslide"
    },
    "tags": []
   },
   "source": [
    "#### Parameter sweeps in practice\n",
    "\n",
    "No easy answers, needs vary\n",
    "\n",
    "- Using [joblib](https://joblib.readthedocs.io/en/latest/) to distribute work on cores of your machine\n",
    "- Using a SLURM cluster to run one simulation per core across compute cluster\n",
    "- Use [TVB's RateML](https://github.com/the-virtual-brain/tvb-root/tree/master/scientific_library/tvb/rateML) to generate and run sweeps on GPUs (100x+ faster)\n",
    "    - see poster on RateML if possible"
   ]
  },
  {
   "cell_type": "markdown",
   "id": "29107708-d81a-493e-b0c1-48e98cdecfef",
   "metadata": {
    "slideshow": {
     "slide_type": "slide"
    },
    "tags": []
   },
   "source": [
    "### Parameter inference\n",
    "\n",
    "![](inv-schema.jpg)"
   ]
  },
  {
   "cell_type": "markdown",
   "id": "60aadbc0-3708-43b3-988f-70189c1d068e",
   "metadata": {
    "slideshow": {
     "slide_type": "subslide"
    },
    "tags": []
   },
   "source": [
    "#### Parameter inference in practice\n",
    "\n",
    "![](bvep-schema.jpg)\n",
    "\n",
    "Practical advice:\n",
    "- 1 - 3 parameters: grid search, L2L\n",
    "- 1 - 30 parameters: SBI, L2L?\n",
    "- 30 - 1M parameters, differentiable: VI & HMC\n",
    "\n",
    "[Hashemi et al, Bayesian Virtual Epileptic Patient](https://github.com/ins-amu/BVEP)"
   ]
  },
  {
   "cell_type": "markdown",
   "id": "66f20646-b623-4022-ba4b-2c8db6f75b7e",
   "metadata": {
    "slideshow": {
     "slide_type": "slide"
    },
    "tags": []
   },
   "source": [
    "### Cosimulation\n",
    "\n",
    "![](cosim-schema.jpg)\n",
    "\n",
    "Kusch, Diaz, Klijn & Jirsa - [TVB-NEST cosimulation](https://wiki.ebrains.eu/bin/view/Collabs/co-simulation-tvb-and-nest-high-computer)"
   ]
  },
  {
   "cell_type": "markdown",
   "id": "af629bba-92dc-468c-9657-7cb87cb83e0a",
   "metadata": {
    "slideshow": {
     "slide_type": "slide"
    },
    "tags": []
   },
   "source": [
    "## Working on EBRAINS with TVB\n",
    "\n",
    "![](ebrains-user.jpg)"
   ]
  },
  {
   "cell_type": "markdown",
   "id": "96cbc5b4-98a5-4afa-9922-5193e44f7c8b",
   "metadata": {
    "slideshow": {
     "slide_type": "subslide"
    },
    "tags": []
   },
   "source": [
    "## TVB applications in EBRAINS showcases\n",
    "\n",
    "![](ebrains-user2.jpg)"
   ]
  },
  {
   "cell_type": "markdown",
   "id": "deb1684d-44f1-4066-a7fb-519f0bf97489",
   "metadata": {
    "slideshow": {
     "slide_type": "subslide"
    },
    "tags": []
   },
   "source": [
    "### Showcase 1 \n",
    "\n",
    "![](sc1-schema.jpg)\n",
    "\n",
    "- Ageing workflow: construct the BNM for rest state & compute virtual ageing trajectories on ICEI\n",
    "- Regional variability: load data for SC, BOLD & receptor densities & perform parameter sweep with ICEI resources"
   ]
  },
  {
   "cell_type": "markdown",
   "id": "07ae6256-bab1-4351-a4f6-57942e645f5c",
   "metadata": {
    "slideshow": {
     "slide_type": "subslide"
    },
    "tags": []
   },
   "source": [
    "## Showcase 2 - Multiscale approaches to epilepsy\n",
    "\n",
    "![](sc2-schema.jpg)\n",
    "\n",
    "- Cosimulation workflow: setup, visualize geomtry, run & visualize results\n",
    "- High-resolution field model: using Chenonceau connectivity, perform high resolution simulation and run inversion on simulated data, verifying against ground truth."
   ]
  },
  {
   "cell_type": "markdown",
   "id": "4c67445c-2363-4cd2-a4d0-4a99db6a9100",
   "metadata": {
    "slideshow": {
     "slide_type": "slide"
    },
    "tags": []
   },
   "source": [
    "## Acknowledgements\n",
    "\n",
    "TVB is indebted to many investments over the years\n",
    "\n",
    "- James S McDonnell Foundation grant to Network Recovery Group consortium\n",
    "- CodeMart and CodeBox industrial partners\n",
    "- Human Brain Project SGA2 & SGA3"
   ]
  },
  {
   "cell_type": "markdown",
   "id": "5f87c9ba-e9de-4edd-8fcb-ae8b35924642",
   "metadata": {
    "slideshow": {
     "slide_type": "subslide"
    },
    "tags": []
   },
   "source": [
    "## More info\n",
    "\n",
    "- ☝️ Please stop me & ask questions\n",
    "- 📓 Slides are a Jupyter notebook\n",
    "- 🧰 Full notebook available at https://corticon-tvb-handson.ins-amu.fr\n",
    "- 💻 Code samples are runnable\n",
    "- 📡 More info at https://thevirtualbrain.org\n",
    "- 📬 User group mailing list https://groups.google.com/g/tvb-users\n",
    "- 🐛 Bug report or feature request https://github.com/the-virtual-brain/tvb-root/issues\n",
    "\n",
    "Thanks for your interest.  Any questions?"
   ]
  }
 ],
 "metadata": {
  "kernelspec": {
   "display_name": "arm64",
   "language": "python",
   "name": "arm64"
  },
  "language_info": {
   "codemirror_mode": {
    "name": "ipython",
    "version": 3
   },
   "file_extension": ".py",
   "mimetype": "text/x-python",
   "name": "python",
   "nbconvert_exporter": "python",
   "pygments_lexer": "ipython3",
   "version": "3.9.7"
  },
  "widgets": {
   "application/vnd.jupyter.widget-state+json": {
    "state": {},
    "version_major": 2,
    "version_minor": 0
   }
  }
 },
 "nbformat": 4,
 "nbformat_minor": 5
}
